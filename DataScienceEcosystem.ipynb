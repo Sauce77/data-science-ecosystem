{
 "cells": [
  {
   "cell_type": "markdown",
   "id": "18b51d6a-85b9-47a8-a4f9-cf5c3206025e",
   "metadata": {},
   "source": [
    "# Data Science Tools and Ecosystem"
   ]
  },
  {
   "cell_type": "markdown",
   "id": "636e1bfc-f89d-4460-b1c6-e681d901aa15",
   "metadata": {},
   "source": [
    "In this notebook, Data Science Tools and Ecosystem are summarized."
   ]
  },
  {
   "cell_type": "markdown",
   "id": "6beb2d77-4767-4dea-b9ac-6059b71d7e7f",
   "metadata": {},
   "source": [
    "**Objectives:**\n",
    "- List popular languages for Data Science\n",
    "- List popular libraries for Data Science\n",
    "- List popular Data Science tools\n",
    "- Example of arithmetic expressions with Python\n",
    "- Example of use of arithmetic expressions with Python (convert minutes to hours)"
   ]
  },
  {
   "cell_type": "markdown",
   "id": "0071e036-272a-4060-8cbd-2a98cbd2452a",
   "metadata": {},
   "source": [
    "Some of the popular languages that Data Scientists use are:\n",
    "1. Python\n",
    "2. R\n",
    "3. Scala\n",
    "4. C++\n",
    "5. Java"
   ]
  },
  {
   "cell_type": "markdown",
   "id": "fb90ed0a-5ac4-4fd2-a58e-cd36681f4823",
   "metadata": {},
   "source": [
    "Some of the commonly used libraries used by Data Scientists include:\n",
    "1. Pandas\n",
    "2. ggplot\n",
    "3. Pytorch\n",
    "4. Tensorflow\n",
    "5. Matplotlib\n",
    "6. Keras\n",
    "7. SciPy"
   ]
  },
  {
   "cell_type": "markdown",
   "id": "0e354f6b-c08c-4710-b83f-f1e007da2dfc",
   "metadata": {},
   "source": [
    "| Data Science Tools |\n",
    "|--------------------|\n",
    "| Juptyter Notebooks |\n",
    "| Google Colab |\n",
    "| R/R Studio |"
   ]
  },
  {
   "cell_type": "markdown",
   "id": "be551caa-d540-468c-a10a-6a33559c0401",
   "metadata": {},
   "source": [
    "### Below are a few examples of evaluating arithmetic expressions in Python"
   ]
  },
  {
   "cell_type": "code",
   "execution_count": 2,
   "id": "fe11186b-f406-4d3a-a23f-60fad57aa767",
   "metadata": {
    "tags": []
   },
   "outputs": [
    {
     "data": {
      "text/plain": [
       "17"
      ]
     },
     "execution_count": 2,
     "metadata": {},
     "output_type": "execute_result"
    }
   ],
   "source": [
    "# This a simple arithmetic expression to mutiply then add integers\n",
    "(3*4)+5"
   ]
  },
  {
   "cell_type": "code",
   "execution_count": 6,
   "id": "f7245ddf-8187-407e-9587-8a965ee955f1",
   "metadata": {
    "tags": []
   },
   "outputs": [
    {
     "name": "stdout",
     "output_type": "stream",
     "text": [
      "There are 3 hours in 200 minutes\n"
     ]
    }
   ],
   "source": [
    "# This will convert 200 minutes to hours by diving by 60\n",
    "minutes = 200\n",
    "hours = minutes//60\n",
    "print(f\"There are {hours} hours in {minutes} minutes\")"
   ]
  },
  {
   "cell_type": "markdown",
   "id": "8caa279d-337b-4621-9677-5a71b169be77",
   "metadata": {},
   "source": [
    "## Author \n",
    "Diego Emanuel Saucedo Ortega"
   ]
  }
 ],
 "metadata": {
  "kernelspec": {
   "display_name": "Python",
   "language": "python",
   "name": "conda-env-python-py"
  },
  "language_info": {
   "codemirror_mode": {
    "name": "ipython",
    "version": 3
   },
   "file_extension": ".py",
   "mimetype": "text/x-python",
   "name": "python",
   "nbconvert_exporter": "python",
   "pygments_lexer": "ipython3",
   "version": "3.7.12"
  }
 },
 "nbformat": 4,
 "nbformat_minor": 5
}
